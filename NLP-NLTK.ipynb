{
 "cells": [
  {
   "cell_type": "markdown",
   "metadata": {},
   "source": [
    "## NLP - NLTLK"
   ]
  },
  {
   "cell_type": "markdown",
   "metadata": {},
   "source": [
    " Load Data :"
   ]
  },
  {
   "cell_type": "code",
   "execution_count": 12,
   "metadata": {},
   "outputs": [],
   "source": [
    "text = \"\"\"Perhaps one of the most significant advances made by Arabic mathematics began at this time with the work of al-Khwarizmi, namely the beginnings of algebra. It is important to understand just how significant this new idea was. It was a revolutionary move away from the Greek concept of mathematics which was essentially geometry. Algebra was a unifying theory which allowed rational numbers, irrational numbers, geometrical magnitudes, etc., to all be treated as \"algebraic objects\". It gave mathematics a whole new development path so much broader in concept to that which had existed before, and provided a vehicle for future development of the subject. Another important aspect of the introduction of algebraic ideas was that it allowed mathematics to be applied to itself in a way which had not happened before.\"\"\"\n",
    "text = text.lower()"
   ]
  },
  {
   "cell_type": "code",
   "execution_count": 13,
   "metadata": {},
   "outputs": [
    {
     "data": {
      "text/plain": [
       "'perhaps one of the most significant advances made by arabic mathematics began at this time with the work of al-khwarizmi, namely the beginnings of algebra. it is important to understand just how significant this new idea was. it was a revolutionary move away from the greek concept of mathematics which was essentially geometry. algebra was a unifying theory which allowed rational numbers, irrational numbers, geometrical magnitudes, etc., to all be treated as \"algebraic objects\". it gave mathematics a whole new development path so much broader in concept to that which had existed before, and provided a vehicle for future development of the subject. another important aspect of the introduction of algebraic ideas was that it allowed mathematics to be applied to itself in a way which had not happened before.'"
      ]
     },
     "execution_count": 13,
     "metadata": {},
     "output_type": "execute_result"
    }
   ],
   "source": [
    "text"
   ]
  },
  {
   "cell_type": "markdown",
   "metadata": {},
   "source": [
    "Eliminate Ponctuation"
   ]
  },
  {
   "cell_type": "code",
   "execution_count": 102,
   "metadata": {},
   "outputs": [],
   "source": [
    "import string"
   ]
  },
  {
   "cell_type": "code",
   "execution_count": 68,
   "metadata": {},
   "outputs": [
    {
     "data": {
      "text/plain": [
       "'!\"#$%&\\'()*+,-./:;<=>?@[\\\\]^_`{|}~'"
      ]
     },
     "execution_count": 68,
     "metadata": {},
     "output_type": "execute_result"
    }
   ],
   "source": [
    "string.punctuation\n"
   ]
  },
  {
   "cell_type": "code",
   "execution_count": 67,
   "metadata": {},
   "outputs": [],
   "source": [
    "text_p = ''.join([char for char in text if char not in string.punctuation])"
   ]
  },
  {
   "cell_type": "code",
   "execution_count": 69,
   "metadata": {},
   "outputs": [
    {
     "data": {
      "text/plain": [
       "'perhaps one of the most significant advances made by arabic mathematics began at this time with the work of alkhwarizmi namely the beginnings of algebra it is important to understand just how significant this new idea was it was a revolutionary move away from the greek concept of mathematics which was essentially geometry algebra was a unifying theory which allowed rational numbers irrational numbers geometrical magnitudes etc to all be treated as algebraic objects it gave mathematics a whole new development path so much broader in concept to that which had existed before and provided a vehicle for future development of the subject another important aspect of the introduction of algebraic ideas was that it allowed mathematics to be applied to itself in a way which had not happened before'"
      ]
     },
     "execution_count": 69,
     "metadata": {},
     "output_type": "execute_result"
    }
   ],
   "source": [
    "text_p"
   ]
  },
  {
   "cell_type": "markdown",
   "metadata": {},
   "source": [
    "## Tokenization :"
   ]
  },
  {
   "cell_type": "code",
   "execution_count": 50,
   "metadata": {},
   "outputs": [
    {
     "name": "stderr",
     "output_type": "stream",
     "text": [
      "[nltk_data] Downloading package punkt to\n",
      "[nltk_data]     C:\\Users\\BASH_TOOR\\AppData\\Roaming\\nltk_data...\n",
      "[nltk_data]   Unzipping tokenizers\\punkt.zip.\n"
     ]
    },
    {
     "data": {
      "text/plain": [
       "True"
      ]
     },
     "execution_count": 50,
     "metadata": {},
     "output_type": "execute_result"
    }
   ],
   "source": [
    "from nltk import word_tokenize\n",
    "nltk.download('punkt')"
   ]
  },
  {
   "cell_type": "code",
   "execution_count": 105,
   "metadata": {},
   "outputs": [
    {
     "data": {
      "text/plain": [
       "['perhaps',\n",
       " 'one',\n",
       " 'of',\n",
       " 'the',\n",
       " 'most',\n",
       " 'significant',\n",
       " 'advances',\n",
       " 'made',\n",
       " 'by',\n",
       " 'arabic',\n",
       " 'mathematics',\n",
       " 'began',\n",
       " 'at',\n",
       " 'this',\n",
       " 'time',\n",
       " 'with',\n",
       " 'the',\n",
       " 'work',\n",
       " 'of',\n",
       " 'alkhwarizmi',\n",
       " 'namely',\n",
       " 'the',\n",
       " 'beginnings',\n",
       " 'of',\n",
       " 'algebra',\n",
       " 'it',\n",
       " 'is',\n",
       " 'important',\n",
       " 'to',\n",
       " 'understand',\n",
       " 'just',\n",
       " 'how',\n",
       " 'significant',\n",
       " 'this',\n",
       " 'new',\n",
       " 'idea',\n",
       " 'was',\n",
       " 'it',\n",
       " 'was',\n",
       " 'a',\n",
       " 'revolutionary',\n",
       " 'move',\n",
       " 'away',\n",
       " 'from',\n",
       " 'the',\n",
       " 'greek',\n",
       " 'concept',\n",
       " 'of',\n",
       " 'mathematics',\n",
       " 'which',\n",
       " 'was',\n",
       " 'essentially',\n",
       " 'geometry',\n",
       " 'algebra',\n",
       " 'was',\n",
       " 'a',\n",
       " 'unifying',\n",
       " 'theory',\n",
       " 'which',\n",
       " 'allowed',\n",
       " 'rational',\n",
       " 'numbers',\n",
       " 'irrational',\n",
       " 'numbers',\n",
       " 'geometrical',\n",
       " 'magnitudes',\n",
       " 'etc',\n",
       " 'to',\n",
       " 'all',\n",
       " 'be',\n",
       " 'treated',\n",
       " 'as',\n",
       " 'algebraic',\n",
       " 'objects',\n",
       " 'it',\n",
       " 'gave',\n",
       " 'mathematics',\n",
       " 'a',\n",
       " 'whole',\n",
       " 'new',\n",
       " 'development',\n",
       " 'path',\n",
       " 'so',\n",
       " 'much',\n",
       " 'broader',\n",
       " 'in',\n",
       " 'concept',\n",
       " 'to',\n",
       " 'that',\n",
       " 'which',\n",
       " 'had',\n",
       " 'existed',\n",
       " 'before',\n",
       " 'and',\n",
       " 'provided',\n",
       " 'a',\n",
       " 'vehicle',\n",
       " 'for',\n",
       " 'future',\n",
       " 'development',\n",
       " 'of',\n",
       " 'the',\n",
       " 'subject',\n",
       " 'another',\n",
       " 'important',\n",
       " 'aspect',\n",
       " 'of',\n",
       " 'the',\n",
       " 'introduction',\n",
       " 'of',\n",
       " 'algebraic',\n",
       " 'ideas',\n",
       " 'was',\n",
       " 'that',\n",
       " 'it',\n",
       " 'allowed',\n",
       " 'mathematics',\n",
       " 'to',\n",
       " 'be',\n",
       " 'applied',\n",
       " 'to',\n",
       " 'itself',\n",
       " 'in',\n",
       " 'a',\n",
       " 'way',\n",
       " 'which',\n",
       " 'had',\n",
       " 'not',\n",
       " 'happened',\n",
       " 'before']"
      ]
     },
     "execution_count": 105,
     "metadata": {},
     "output_type": "execute_result"
    }
   ],
   "source": [
    "textToProceed=word_tokenize(text_p)\n",
    "textToProceed"
   ]
  },
  {
   "cell_type": "markdown",
   "metadata": {},
   "source": [
    "## Elimentate Stop Word"
   ]
  },
  {
   "cell_type": "code",
   "execution_count": 53,
   "metadata": {},
   "outputs": [],
   "source": [
    " from nltk.corpus import stopwords"
   ]
  },
  {
   "cell_type": "code",
   "execution_count": 70,
   "metadata": {},
   "outputs": [],
   "source": [
    "stop_words = stopwords.words('english')"
   ]
  },
  {
   "cell_type": "code",
   "execution_count": 75,
   "metadata": {},
   "outputs": [
    {
     "data": {
      "text/plain": [
       "['perhaps',\n",
       " 'one',\n",
       " 'significant',\n",
       " 'advances',\n",
       " 'made',\n",
       " 'arabic',\n",
       " 'mathematics',\n",
       " 'began',\n",
       " 'time',\n",
       " 'work',\n",
       " 'alkhwarizmi',\n",
       " 'namely',\n",
       " 'beginnings',\n",
       " 'algebra',\n",
       " 'important',\n",
       " 'understand',\n",
       " 'significant',\n",
       " 'new',\n",
       " 'idea',\n",
       " 'revolutionary',\n",
       " 'move',\n",
       " 'away',\n",
       " 'greek',\n",
       " 'concept',\n",
       " 'mathematics',\n",
       " 'essentially',\n",
       " 'geometry',\n",
       " 'algebra',\n",
       " 'unifying',\n",
       " 'theory',\n",
       " 'allowed',\n",
       " 'rational',\n",
       " 'numbers',\n",
       " 'irrational',\n",
       " 'numbers',\n",
       " 'geometrical',\n",
       " 'magnitudes',\n",
       " 'etc',\n",
       " 'treated',\n",
       " 'algebraic',\n",
       " 'objects',\n",
       " 'gave',\n",
       " 'mathematics',\n",
       " 'whole',\n",
       " 'new',\n",
       " 'development',\n",
       " 'path',\n",
       " 'much',\n",
       " 'broader',\n",
       " 'concept',\n",
       " 'existed',\n",
       " 'provided',\n",
       " 'vehicle',\n",
       " 'future',\n",
       " 'development',\n",
       " 'subject',\n",
       " 'another',\n",
       " 'important',\n",
       " 'aspect',\n",
       " 'introduction',\n",
       " 'algebraic',\n",
       " 'ideas',\n",
       " 'allowed',\n",
       " 'mathematics',\n",
       " 'applied',\n",
       " 'way',\n",
       " 'happened']"
      ]
     },
     "execution_count": 75,
     "metadata": {},
     "output_type": "execute_result"
    }
   ],
   "source": [
    "words_sw = [word for word in textToProceed if word not in stop_words]\n",
    "words_sw"
   ]
  },
  {
   "cell_type": "markdown",
   "metadata": {},
   "source": [
    "# Indicate The Stemming"
   ]
  },
  {
   "cell_type": "code",
   "execution_count": 115,
   "metadata": {},
   "outputs": [
    {
     "name": "stderr",
     "output_type": "stream",
     "text": [
      "[nltk_data] Downloading package wordnet to\n",
      "[nltk_data]     C:\\Users\\BASH_TOOR\\AppData\\Roaming\\nltk_data...\n",
      "[nltk_data]   Unzipping corpora\\wordnet.zip.\n"
     ]
    },
    {
     "data": {
      "text/plain": [
       "True"
      ]
     },
     "execution_count": 115,
     "metadata": {},
     "output_type": "execute_result"
    }
   ],
   "source": [
    "from nltk.stem.porter import PorterStemmer\n",
    "\n",
    "from nltk.stem import WordNetLemmatizer\n",
    "\n",
    "nltk.download('wordnet')"
   ]
  },
  {
   "cell_type": "code",
   "execution_count": 113,
   "metadata": {},
   "outputs": [],
   "source": [
    "porter = PorterStemmer()\n",
    "\n",
    "\n",
    "wnl = WordNetLemmatizer()"
   ]
  },
  {
   "cell_type": "code",
   "execution_count": 116,
   "metadata": {},
   "outputs": [],
   "source": [
    "text_stemmer = [porter.stem(word) for word in words_sw]\n",
    "\n",
    "\n",
    "lemmatized = [wnl.lemmatize(word) for word in words_sw]"
   ]
  },
  {
   "cell_type": "code",
   "execution_count": 121,
   "metadata": {},
   "outputs": [
    {
     "data": {
      "text/plain": [
       "['perhap',\n",
       " 'one',\n",
       " 'signific',\n",
       " 'advanc',\n",
       " 'made',\n",
       " 'arab',\n",
       " 'mathemat',\n",
       " 'began',\n",
       " 'time',\n",
       " 'work',\n",
       " 'alkhwarizmi',\n",
       " 'name',\n",
       " 'begin',\n",
       " 'algebra',\n",
       " 'import',\n",
       " 'understand',\n",
       " 'signific',\n",
       " 'new',\n",
       " 'idea',\n",
       " 'revolutionari',\n",
       " 'move',\n",
       " 'away',\n",
       " 'greek',\n",
       " 'concept',\n",
       " 'mathemat',\n",
       " 'essenti',\n",
       " 'geometri',\n",
       " 'algebra',\n",
       " 'unifi',\n",
       " 'theori',\n",
       " 'allow',\n",
       " 'ration',\n",
       " 'number',\n",
       " 'irrat',\n",
       " 'number',\n",
       " 'geometr',\n",
       " 'magnitud',\n",
       " 'etc',\n",
       " 'treat',\n",
       " 'algebra',\n",
       " 'object',\n",
       " 'gave',\n",
       " 'mathemat',\n",
       " 'whole',\n",
       " 'new',\n",
       " 'develop',\n",
       " 'path',\n",
       " 'much',\n",
       " 'broader',\n",
       " 'concept',\n",
       " 'exist',\n",
       " 'provid',\n",
       " 'vehicl',\n",
       " 'futur',\n",
       " 'develop',\n",
       " 'subject',\n",
       " 'anoth',\n",
       " 'import',\n",
       " 'aspect',\n",
       " 'introduct',\n",
       " 'algebra',\n",
       " 'idea',\n",
       " 'allow',\n",
       " 'mathemat',\n",
       " 'appli',\n",
       " 'way',\n",
       " 'happen']"
      ]
     },
     "execution_count": 121,
     "metadata": {},
     "output_type": "execute_result"
    }
   ],
   "source": [
    "text_stemmer"
   ]
  },
  {
   "cell_type": "code",
   "execution_count": null,
   "metadata": {},
   "outputs": [],
   "source": []
  },
  {
   "cell_type": "markdown",
   "metadata": {},
   "source": [
    "## Pos Tagging "
   ]
  },
  {
   "cell_type": "code",
   "execution_count": 89,
   "metadata": {},
   "outputs": [
    {
     "name": "stderr",
     "output_type": "stream",
     "text": [
      "[nltk_data] Downloading package averaged_perceptron_tagger to\n",
      "[nltk_data]     C:\\Users\\BASH_TOOR\\AppData\\Roaming\\nltk_data...\n",
      "[nltk_data]   Package averaged_perceptron_tagger is already up-to-\n",
      "[nltk_data]       date!\n"
     ]
    },
    {
     "data": {
      "text/plain": [
       "True"
      ]
     },
     "execution_count": 89,
     "metadata": {},
     "output_type": "execute_result"
    }
   ],
   "source": [
    "nltk.download('averaged_perceptron_tagger')"
   ]
  },
  {
   "cell_type": "code",
   "execution_count": 90,
   "metadata": {},
   "outputs": [
    {
     "data": {
      "text/plain": [
       "[('perhap', 'NN'),\n",
       " ('one', 'CD'),\n",
       " ('signific', 'NN'),\n",
       " ('advanc', 'NN'),\n",
       " ('made', 'VBD'),\n",
       " ('arab', 'JJ'),\n",
       " ('mathemat', 'NN'),\n",
       " ('began', 'VBD'),\n",
       " ('time', 'NN'),\n",
       " ('work', 'NN'),\n",
       " ('alkhwarizmi', 'RB'),\n",
       " ('name', 'JJ'),\n",
       " ('begin', 'VB'),\n",
       " ('algebra', 'JJ'),\n",
       " ('import', 'NN'),\n",
       " ('understand', 'NN'),\n",
       " ('signific', 'JJ'),\n",
       " ('new', 'JJ'),\n",
       " ('idea', 'NN'),\n",
       " ('revolutionari', 'NN'),\n",
       " ('move', 'VB'),\n",
       " ('away', 'RB'),\n",
       " ('greek', 'JJ'),\n",
       " ('concept', 'NN'),\n",
       " ('mathemat', 'NN'),\n",
       " ('essenti', 'VBP'),\n",
       " ('geometri', 'NN'),\n",
       " ('algebra', 'NN'),\n",
       " ('unifi', 'JJ'),\n",
       " ('theori', 'NN'),\n",
       " ('allow', 'JJ'),\n",
       " ('ration', 'NN'),\n",
       " ('number', 'NN'),\n",
       " ('irrat', 'JJ'),\n",
       " ('number', 'NN'),\n",
       " ('geometr', 'NN'),\n",
       " ('magnitud', 'NN'),\n",
       " ('etc', 'FW'),\n",
       " ('treat', 'NN'),\n",
       " ('algebra', 'NN'),\n",
       " ('object', 'VBP'),\n",
       " ('gave', 'VBD'),\n",
       " ('mathemat', 'NNS'),\n",
       " ('whole', 'JJ'),\n",
       " ('new', 'JJ'),\n",
       " ('develop', 'VB'),\n",
       " ('path', 'NN'),\n",
       " ('much', 'JJ'),\n",
       " ('broader', 'JJR'),\n",
       " ('concept', 'NN'),\n",
       " ('exist', 'VBP'),\n",
       " ('provid', 'JJ'),\n",
       " ('vehicl', 'NN'),\n",
       " ('futur', 'NN'),\n",
       " ('develop', 'VB'),\n",
       " ('subject', 'JJ'),\n",
       " ('anoth', 'DT'),\n",
       " ('import', 'NN'),\n",
       " ('aspect', 'JJ'),\n",
       " ('introduct', 'NN'),\n",
       " ('algebra', 'NN'),\n",
       " ('idea', 'NN'),\n",
       " ('allow', 'IN'),\n",
       " ('mathemat', 'NNS'),\n",
       " ('appli', 'JJ'),\n",
       " ('way', 'NN'),\n",
       " ('happen', 'VB')]"
      ]
     },
     "execution_count": 90,
     "metadata": {},
     "output_type": "execute_result"
    }
   ],
   "source": [
    "from nltk import pos_tag\n",
    "textToProceed = pos_tag(text_stemmer)\n",
    "textToProceed"
   ]
  },
  {
   "cell_type": "code",
   "execution_count": 91,
   "metadata": {},
   "outputs": [
    {
     "data": {
      "text/plain": [
       "[('perhaps', 'RB'),\n",
       " ('one', 'CD'),\n",
       " ('significant', 'JJ'),\n",
       " ('advances', 'NNS'),\n",
       " ('made', 'VBN'),\n",
       " ('arabic', 'JJ'),\n",
       " ('mathematics', 'NNS'),\n",
       " ('began', 'VBD'),\n",
       " ('time', 'NN'),\n",
       " ('work', 'NN'),\n",
       " ('alkhwarizmi', 'RB'),\n",
       " ('namely', 'RB'),\n",
       " ('beginnings', 'JJ'),\n",
       " ('algebra', 'NN'),\n",
       " ('important', 'JJ'),\n",
       " ('understand', 'NN'),\n",
       " ('significant', 'JJ'),\n",
       " ('new', 'JJ'),\n",
       " ('idea', 'NN'),\n",
       " ('revolutionary', 'JJ'),\n",
       " ('move', 'VB'),\n",
       " ('away', 'RB'),\n",
       " ('greek', 'JJ'),\n",
       " ('concept', 'NN'),\n",
       " ('mathematics', 'NNS'),\n",
       " ('essentially', 'RB'),\n",
       " ('geometry', 'VBP'),\n",
       " ('algebra', 'JJ'),\n",
       " ('unifying', 'VBG'),\n",
       " ('theory', 'NN'),\n",
       " ('allowed', 'VBN'),\n",
       " ('rational', 'JJ'),\n",
       " ('numbers', 'NNS'),\n",
       " ('irrational', 'JJ'),\n",
       " ('numbers', 'NNS'),\n",
       " ('geometrical', 'JJ'),\n",
       " ('magnitudes', 'NNS'),\n",
       " ('etc', 'VBP'),\n",
       " ('treated', 'VBN'),\n",
       " ('algebraic', 'JJ'),\n",
       " ('objects', 'NNS'),\n",
       " ('gave', 'VBD'),\n",
       " ('mathematics', 'NNS'),\n",
       " ('whole', 'JJ'),\n",
       " ('new', 'JJ'),\n",
       " ('development', 'NN'),\n",
       " ('path', 'NN'),\n",
       " ('much', 'JJ'),\n",
       " ('broader', 'JJR'),\n",
       " ('concept', 'NN'),\n",
       " ('existed', 'VBD'),\n",
       " ('provided', 'JJ'),\n",
       " ('vehicle', 'NN'),\n",
       " ('future', 'NN'),\n",
       " ('development', 'NN'),\n",
       " ('subject', 'NN'),\n",
       " ('another', 'DT'),\n",
       " ('important', 'JJ'),\n",
       " ('aspect', 'NN'),\n",
       " ('introduction', 'NN'),\n",
       " ('algebraic', 'IN'),\n",
       " ('ideas', 'NNS'),\n",
       " ('allowed', 'VBN'),\n",
       " ('mathematics', 'NNS'),\n",
       " ('applied', 'VBD'),\n",
       " ('way', 'NN'),\n",
       " ('happened', 'VBD')]"
      ]
     },
     "execution_count": 91,
     "metadata": {},
     "output_type": "execute_result"
    }
   ],
   "source": [
    "textToProceed = pos_tag(words_sw)\n",
    "textToProceed"
   ]
  },
  {
   "cell_type": "code",
   "execution_count": 100,
   "metadata": {},
   "outputs": [
    {
     "name": "stderr",
     "output_type": "stream",
     "text": [
      "[nltk_data] Downloading package tagsets to\n",
      "[nltk_data]     C:\\Users\\BASH_TOOR\\AppData\\Roaming\\nltk_data...\n",
      "[nltk_data]   Unzipping help\\tagsets.zip.\n"
     ]
    },
    {
     "name": "stdout",
     "output_type": "stream",
     "text": [
      "VB: verb, base form\n",
      "    ask assemble assess assign assume atone attention avoid bake balkanize\n",
      "    bank begin behold believe bend benefit bevel beware bless boil bomb\n",
      "    boost brace break bring broil brush build ...\n",
      "VBD: verb, past tense\n",
      "    dipped pleaded swiped regummed soaked tidied convened halted registered\n",
      "    cushioned exacted snubbed strode aimed adopted belied figgered\n",
      "    speculated wore appreciated contemplated ...\n",
      "VBG: verb, present participle or gerund\n",
      "    telegraphing stirring focusing angering judging stalling lactating\n",
      "    hankerin' alleging veering capping approaching traveling besieging\n",
      "    encrypting interrupting erasing wincing ...\n",
      "VBN: verb, past participle\n",
      "    multihulled dilapidated aerosolized chaired languished panelized used\n",
      "    experimented flourished imitated reunifed factored condensed sheared\n",
      "    unsettled primed dubbed desired ...\n",
      "VBP: verb, present tense, not 3rd person singular\n",
      "    predominate wrap resort sue twist spill cure lengthen brush terminate\n",
      "    appear tend stray glisten obtain comprise detest tease attract\n",
      "    emphasize mold postpone sever return wag ...\n",
      "VBZ: verb, present tense, 3rd person singular\n",
      "    bases reconstructs marks mixes displeases seals carps weaves snatches\n",
      "    slumps stretches authorizes smolders pictures emerges stockpiles\n",
      "    seduces fizzes uses bolsters slaps speaks pleads ...\n"
     ]
    }
   ],
   "source": [
    "nltk.download('tagsets')\n",
    "nltk.help.upenn_tagset('VB.*')"
   ]
  },
  {
   "cell_type": "code",
   "execution_count": 103,
   "metadata": {},
   "outputs": [
    {
     "name": "stdout",
     "output_type": "stream",
     "text": [
      "revolutionary; geometry; theory\n",
      "None\n"
     ]
    }
   ],
   "source": [
    "print(nltk.Text(nltk.word_tokenize(text)).findall(r\"<.*ry>\"))"
   ]
  },
  {
   "cell_type": "code",
   "execution_count": null,
   "metadata": {},
   "outputs": [],
   "source": []
  }
 ],
 "metadata": {
  "kernelspec": {
   "display_name": "Python 3",
   "language": "python",
   "name": "python3"
  },
  "language_info": {
   "codemirror_mode": {
    "name": "ipython",
    "version": 3
   },
   "file_extension": ".py",
   "mimetype": "text/x-python",
   "name": "python",
   "nbconvert_exporter": "python",
   "pygments_lexer": "ipython3",
   "version": "3.8.5"
  }
 },
 "nbformat": 4,
 "nbformat_minor": 4
}
