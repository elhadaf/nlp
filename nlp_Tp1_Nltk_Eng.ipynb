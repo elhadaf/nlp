{
 "cells": [
  {
   "cell_type": "markdown",
   "id": "8b89ee4b",
   "metadata": {},
   "source": [
    "# NLP  \n",
    "TP1 NLTK ENGLISH"
   ]
  },
  {
   "cell_type": "markdown",
   "id": "d523eef4",
   "metadata": {},
   "source": [
    "# Tokenization "
   ]
  },
  {
   "cell_type": "code",
   "execution_count": 27,
   "id": "7087b899",
   "metadata": {
    "scrolled": true
   },
   "outputs": [
    {
     "name": "stdout",
     "output_type": "stream",
     "text": [
      "['Perhaps', 'one', 'of', 'the', 'most', 'significant', 'advances', 'made', 'by', 'Arabic', 'mathematics', 'began', 'at', 'this', 'time', 'with', 'the', 'work', 'of', 'al-Khwarizmi', ',', 'namely', 'the', 'beginnings', 'of', 'algebra', '.', 'It', 'is', 'important', 'to', 'understand', 'just', 'how', 'significant', 'this', 'new', 'idea', 'was', '.', 'It', 'was', 'a', 'revolutionary', 'move', 'away', 'from', 'the', 'Greek', 'concept', 'of', 'mathematics', 'which', 'was', 'essentially', 'geometry', '.', 'Algebra', 'was', 'a', 'unifying', 'theory', 'which', 'allowed', 'rational', 'numbers', ',', 'irrational', 'numbers', ',', 'geometrical', 'magnitudes', ',', 'etc.', ',', 'to', 'all', 'be', 'treated', 'as', '``', 'algebraic', 'objects', \"''\", '.', 'It', 'gave', 'mathematics', 'a', 'whole', 'new', 'development', 'path', 'so', 'much', 'broader', 'in', 'concept', 'to', 'that', 'which', 'had', 'existed', 'before', ',', 'and', 'provided', 'a', 'vehicle', 'for', 'future', 'development', 'of', 'the', 'subject', '.', 'Another', 'important', 'aspect', 'of', 'the', 'introduction', 'of', 'algebraic', 'ideas', 'was', 'that', 'it', 'allowed', 'mathematics', 'to', 'be', 'applied', 'to', 'itself', 'in', 'a', 'way', 'which', 'had', 'not', 'happened', 'before', '.']\n",
      "\n",
      "\n"
     ]
    }
   ],
   "source": [
    "import nltk\n",
    "from nltk import word_tokenize\n",
    "PH = \"\"\"Perhaps one of the most significant advances made by Arabic mathematics began at this time with the work of al-Khwarizmi, namely\n",
    "the beginnings of algebra. It is important to understand just how significant this new idea was. It was a revolutionary move away from\n",
    "the Greek concept of mathematics which was essentially geometry. Algebra was a unifying theory which allowed rational\n",
    "numbers, irrational numbers, geometrical magnitudes, etc., to all be treated as \"algebraic objects\". It gave mathematics a whole new\n",
    "development path so much broader in concept to that which had existed before, and provided a vehicle for future development of the\n",
    "subject. Another important aspect of the introduction of algebraic ideas was that it allowed mathematics to be applied to itself in a\n",
    "way which had not happened before.\"\"\"\n",
    "tok = nltk.word_tokenize(PH)\n",
    "\n",
    "print(tok)\n",
    "\n"
   ]
  },
  {
   "cell_type": "markdown",
   "id": "8b17925b",
   "metadata": {},
   "source": [
    "# Stop words"
   ]
  },
  {
   "cell_type": "code",
   "execution_count": 28,
   "id": "5dee51ea",
   "metadata": {},
   "outputs": [
    {
     "data": {
      "text/plain": [
       "['Perhaps',\n",
       " 'one',\n",
       " 'significant',\n",
       " 'advances',\n",
       " 'made',\n",
       " 'Arabic',\n",
       " 'mathematics',\n",
       " 'began',\n",
       " 'time',\n",
       " 'work',\n",
       " 'al-Khwarizmi',\n",
       " ',',\n",
       " 'namely',\n",
       " 'beginnings',\n",
       " 'algebra',\n",
       " '.',\n",
       " 'It',\n",
       " 'important',\n",
       " 'understand',\n",
       " 'significant',\n",
       " 'new',\n",
       " 'idea',\n",
       " '.',\n",
       " 'It',\n",
       " 'revolutionary',\n",
       " 'move',\n",
       " 'away',\n",
       " 'Greek',\n",
       " 'concept',\n",
       " 'mathematics',\n",
       " 'essentially',\n",
       " 'geometry',\n",
       " '.',\n",
       " 'Algebra',\n",
       " 'unifying',\n",
       " 'theory',\n",
       " 'allowed',\n",
       " 'rational',\n",
       " 'numbers',\n",
       " ',',\n",
       " 'irrational',\n",
       " 'numbers',\n",
       " ',',\n",
       " 'geometrical',\n",
       " 'magnitudes',\n",
       " ',',\n",
       " 'etc.',\n",
       " ',',\n",
       " 'treated',\n",
       " '``',\n",
       " 'algebraic',\n",
       " 'objects',\n",
       " \"''\",\n",
       " '.',\n",
       " 'It',\n",
       " 'gave',\n",
       " 'mathematics',\n",
       " 'whole',\n",
       " 'new',\n",
       " 'development',\n",
       " 'path',\n",
       " 'much',\n",
       " 'broader',\n",
       " 'concept',\n",
       " 'existed',\n",
       " ',',\n",
       " 'provided',\n",
       " 'vehicle',\n",
       " 'future',\n",
       " 'development',\n",
       " 'subject',\n",
       " '.',\n",
       " 'Another',\n",
       " 'important',\n",
       " 'aspect',\n",
       " 'introduction',\n",
       " 'algebraic',\n",
       " 'ideas',\n",
       " 'allowed',\n",
       " 'mathematics',\n",
       " 'applied',\n",
       " 'way',\n",
       " 'happened',\n",
       " '.']"
      ]
     },
     "execution_count": 28,
     "metadata": {},
     "output_type": "execute_result"
    }
   ],
   "source": [
    "from nltk.corpus import stopwords\n",
    "Mot = [w for w in tok if w not in stopwords.words('english')]\n",
    "Mot"
   ]
  },
  {
   "cell_type": "markdown",
   "id": "0049d8bb",
   "metadata": {},
   "source": [
    "# Part-of-Speech Tagging"
   ]
  },
  {
   "cell_type": "code",
   "execution_count": 29,
   "id": "d7a087a7",
   "metadata": {
    "scrolled": true
   },
   "outputs": [
    {
     "name": "stdout",
     "output_type": "stream",
     "text": [
      "[('Perhaps', 'RB'), ('one', 'CD'), ('of', 'IN'), ('the', 'DT'), ('most', 'RBS'), ('significant', 'JJ'), ('advances', 'NNS'), ('made', 'VBN'), ('by', 'IN'), ('Arabic', 'NNP'), ('mathematics', 'NNS'), ('began', 'VBD'), ('at', 'IN'), ('this', 'DT'), ('time', 'NN'), ('with', 'IN'), ('the', 'DT'), ('work', 'NN'), ('of', 'IN'), ('al-Khwarizmi', 'JJ'), (',', ','), ('namely', 'RB'), ('the', 'DT'), ('beginnings', 'NNS'), ('of', 'IN'), ('algebra', 'NN'), ('.', '.'), ('It', 'PRP'), ('is', 'VBZ'), ('important', 'JJ'), ('to', 'TO'), ('understand', 'VB'), ('just', 'RB'), ('how', 'WRB'), ('significant', 'JJ'), ('this', 'DT'), ('new', 'JJ'), ('idea', 'NN'), ('was', 'VBD'), ('.', '.'), ('It', 'PRP'), ('was', 'VBD'), ('a', 'DT'), ('revolutionary', 'JJ'), ('move', 'NN'), ('away', 'RB'), ('from', 'IN'), ('the', 'DT'), ('Greek', 'NNP'), ('concept', 'NN'), ('of', 'IN'), ('mathematics', 'NNS'), ('which', 'WDT'), ('was', 'VBD'), ('essentially', 'RB'), ('geometry', 'JJ'), ('.', '.'), ('Algebra', 'NNP'), ('was', 'VBD'), ('a', 'DT'), ('unifying', 'JJ'), ('theory', 'NN'), ('which', 'WDT'), ('allowed', 'VBD'), ('rational', 'JJ'), ('numbers', 'NNS'), (',', ','), ('irrational', 'JJ'), ('numbers', 'NNS'), (',', ','), ('geometrical', 'JJ'), ('magnitudes', 'NNS'), (',', ','), ('etc.', 'NN'), (',', ','), ('to', 'TO'), ('all', 'DT'), ('be', 'VB'), ('treated', 'VBN'), ('as', 'IN'), ('``', '``'), ('algebraic', 'JJ'), ('objects', 'NNS'), (\"''\", \"''\"), ('.', '.'), ('It', 'PRP'), ('gave', 'VBD'), ('mathematics', 'NNS'), ('a', 'DT'), ('whole', 'JJ'), ('new', 'JJ'), ('development', 'NN'), ('path', 'NN'), ('so', 'RB'), ('much', 'JJ'), ('broader', 'JJR'), ('in', 'IN'), ('concept', 'NN'), ('to', 'TO'), ('that', 'DT'), ('which', 'WDT'), ('had', 'VBD'), ('existed', 'VBN'), ('before', 'IN'), (',', ','), ('and', 'CC'), ('provided', 'VBD'), ('a', 'DT'), ('vehicle', 'NN'), ('for', 'IN'), ('future', 'JJ'), ('development', 'NN'), ('of', 'IN'), ('the', 'DT'), ('subject', 'NN'), ('.', '.'), ('Another', 'DT'), ('important', 'JJ'), ('aspect', 'NN'), ('of', 'IN'), ('the', 'DT'), ('introduction', 'NN'), ('of', 'IN'), ('algebraic', 'JJ'), ('ideas', 'NNS'), ('was', 'VBD'), ('that', 'IN'), ('it', 'PRP'), ('allowed', 'VBD'), ('mathematics', 'NNS'), ('to', 'TO'), ('be', 'VB'), ('applied', 'VBN'), ('to', 'TO'), ('itself', 'PRP'), ('in', 'IN'), ('a', 'DT'), ('way', 'NN'), ('which', 'WDT'), ('had', 'VBD'), ('not', 'RB'), ('happened', 'VBN'), ('before', 'IN'), ('.', '.')]\n",
      "\n",
      "\n"
     ]
    }
   ],
   "source": [
    "Pos1 = nltk.pos_tag(tok)\n",
    "print(Pos1)\n",
    "print('\\n')"
   ]
  },
  {
   "cell_type": "markdown",
   "id": "8dc0ecc3",
   "metadata": {},
   "source": [
    "# Stemming "
   ]
  },
  {
   "cell_type": "code",
   "execution_count": 32,
   "id": "36741451",
   "metadata": {},
   "outputs": [],
   "source": [
    "from nltk.stem.porter import PorterStemmer\n",
    "\n",
    "from nltk.stem import WordNetLemmatizer\n",
    "\n"
   ]
  },
  {
   "cell_type": "code",
   "execution_count": 40,
   "id": "d633c8ff",
   "metadata": {
    "scrolled": true
   },
   "outputs": [
    {
     "data": {
      "text/plain": [
       "['perhap',\n",
       " 'one',\n",
       " 'signific',\n",
       " 'advanc',\n",
       " 'made',\n",
       " 'byarab',\n",
       " 'mathematicsbegan',\n",
       " 'time',\n",
       " 'work',\n",
       " 'al-khwarizmi',\n",
       " ',',\n",
       " 'name',\n",
       " 'begin',\n",
       " 'algebra',\n",
       " '.',\n",
       " 'it',\n",
       " 'import',\n",
       " 'understand',\n",
       " 'signific',\n",
       " 'new',\n",
       " 'idea',\n",
       " '.',\n",
       " 'it',\n",
       " 'revolutionari',\n",
       " 'move',\n",
       " 'away',\n",
       " 'greek',\n",
       " 'concept',\n",
       " 'mathemat',\n",
       " 'essenti',\n",
       " 'geometri',\n",
       " '.',\n",
       " 'algebra',\n",
       " 'unifi',\n",
       " 'theori',\n",
       " 'allowedr',\n",
       " 'number',\n",
       " ',',\n",
       " 'irrat',\n",
       " 'number',\n",
       " ',',\n",
       " 'geometr',\n",
       " 'magnitud',\n",
       " ',',\n",
       " 'etc.',\n",
       " ',',\n",
       " 'treat',\n",
       " '``',\n",
       " 'algebra',\n",
       " 'object',\n",
       " \"''\",\n",
       " '.',\n",
       " 'it',\n",
       " 'gave',\n",
       " 'mathemat',\n",
       " 'whole',\n",
       " 'new',\n",
       " 'develop',\n",
       " 'path',\n",
       " 'much',\n",
       " 'broader',\n",
       " 'concept',\n",
       " 'exist',\n",
       " ',',\n",
       " 'provid',\n",
       " 'vehicl',\n",
       " 'futur',\n",
       " 'develop',\n",
       " 'subject',\n",
       " '.',\n",
       " 'anoth',\n",
       " 'import',\n",
       " 'aspect',\n",
       " 'introduct',\n",
       " 'algebra',\n",
       " 'idea',\n",
       " 'allow',\n",
       " 'mathemat',\n",
       " 'appli',\n",
       " 'itselfin',\n",
       " 'way',\n",
       " 'happen',\n",
       " '.']"
      ]
     },
     "execution_count": 40,
     "metadata": {},
     "output_type": "execute_result"
    }
   ],
   "source": [
    "stm = PorterStemmer()\n",
    "\n",
    "text_stem = [stm.stem(w) for w in words_sw]\n",
    "\n",
    "text_stemmer"
   ]
  },
  {
   "cell_type": "markdown",
   "id": "5db79e27",
   "metadata": {},
   "source": [
    "# Lemmatization"
   ]
  },
  {
   "cell_type": "code",
   "execution_count": 41,
   "id": "146bfd71",
   "metadata": {},
   "outputs": [
    {
     "data": {
      "text/plain": [
       "['Perhaps',\n",
       " 'one',\n",
       " 'significant',\n",
       " 'advance',\n",
       " 'made',\n",
       " 'byArabic',\n",
       " 'mathematicsbegan',\n",
       " 'time',\n",
       " 'work',\n",
       " 'al-Khwarizmi',\n",
       " ',',\n",
       " 'namely',\n",
       " 'beginning',\n",
       " 'algebra',\n",
       " '.',\n",
       " 'It',\n",
       " 'important',\n",
       " 'understand',\n",
       " 'significant',\n",
       " 'new',\n",
       " 'idea',\n",
       " '.',\n",
       " 'It',\n",
       " 'revolutionary',\n",
       " 'move',\n",
       " 'away',\n",
       " 'Greek',\n",
       " 'concept',\n",
       " 'mathematics',\n",
       " 'essentially',\n",
       " 'geometry',\n",
       " '.',\n",
       " 'Algebra',\n",
       " 'unifying',\n",
       " 'theory',\n",
       " 'allowedrational',\n",
       " 'number',\n",
       " ',',\n",
       " 'irrational',\n",
       " 'number',\n",
       " ',',\n",
       " 'geometrical',\n",
       " 'magnitude',\n",
       " ',',\n",
       " 'etc.',\n",
       " ',',\n",
       " 'treated',\n",
       " '``',\n",
       " 'algebraic',\n",
       " 'object',\n",
       " \"''\",\n",
       " '.',\n",
       " 'It',\n",
       " 'gave',\n",
       " 'mathematics',\n",
       " 'whole',\n",
       " 'new',\n",
       " 'development',\n",
       " 'path',\n",
       " 'much',\n",
       " 'broader',\n",
       " 'concept',\n",
       " 'existed',\n",
       " ',',\n",
       " 'provided',\n",
       " 'vehicle',\n",
       " 'future',\n",
       " 'development',\n",
       " 'subject',\n",
       " '.',\n",
       " 'Another',\n",
       " 'important',\n",
       " 'aspect',\n",
       " 'introduction',\n",
       " 'algebraic',\n",
       " 'idea',\n",
       " 'allowed',\n",
       " 'mathematics',\n",
       " 'applied',\n",
       " 'itselfin',\n",
       " 'way',\n",
       " 'happened',\n",
       " '.']"
      ]
     },
     "execution_count": 41,
     "metadata": {},
     "output_type": "execute_result"
    }
   ],
   "source": [
    "lm = WordNetLemmatizer()\n",
    "\n",
    "text_lem = [wnl.lemmatize(w) for w in words_sw]\n",
    "text_lem"
   ]
  },
  {
   "cell_type": "code",
   "execution_count": null,
   "id": "5a5328cc",
   "metadata": {},
   "outputs": [],
   "source": []
  },
  {
   "cell_type": "code",
   "execution_count": null,
   "id": "338c626a",
   "metadata": {},
   "outputs": [],
   "source": []
  }
 ],
 "metadata": {
  "kernelspec": {
   "display_name": "Python 3",
   "language": "python",
   "name": "python3"
  },
  "language_info": {
   "codemirror_mode": {
    "name": "ipython",
    "version": 3
   },
   "file_extension": ".py",
   "mimetype": "text/x-python",
   "name": "python",
   "nbconvert_exporter": "python",
   "pygments_lexer": "ipython3",
   "version": "3.8.8"
  }
 },
 "nbformat": 4,
 "nbformat_minor": 5
}
