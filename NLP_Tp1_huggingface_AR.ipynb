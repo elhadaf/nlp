{
 "cells": [
  {
   "cell_type": "code",
   "execution_count": 13,
   "id": "e1941f8c",
   "metadata": {
    "scrolled": true
   },
   "outputs": [
    {
     "name": "stdout",
     "output_type": "stream",
     "text": [
      "Requirement already satisfied: transformers in c:\\anaconda\\lib\\site-packages (4.8.2)\n",
      "Requirement already satisfied: packaging in c:\\anaconda\\lib\\site-packages (from transformers) (20.9)\n",
      "Requirement already satisfied: regex!=2019.12.17 in c:\\anaconda\\lib\\site-packages (from transformers) (2021.4.4)\n",
      "Requirement already satisfied: huggingface-hub==0.0.12 in c:\\anaconda\\lib\\site-packages (from transformers) (0.0.12)\n",
      "Requirement already satisfied: filelock in c:\\anaconda\\lib\\site-packages (from transformers) (3.0.12)\n",
      "Requirement already satisfied: requests in c:\\anaconda\\lib\\site-packages (from transformers) (2.25.1)\n",
      "Requirement already satisfied: numpy>=1.17 in c:\\anaconda\\lib\\site-packages (from transformers) (1.19.5)\n",
      "Requirement already satisfied: sacremoses in c:\\anaconda\\lib\\site-packages (from transformers) (0.0.45)\n",
      "Requirement already satisfied: tokenizers<0.11,>=0.10.1 in c:\\anaconda\\lib\\site-packages (from transformers) (0.10.3)\n",
      "Requirement already satisfied: tqdm>=4.27 in c:\\anaconda\\lib\\site-packages (from transformers) (4.59.0)\n",
      "Requirement already satisfied: pyyaml in c:\\anaconda\\lib\\site-packages (from transformers) (5.4.1)\n",
      "Requirement already satisfied: typing-extensions in c:\\anaconda\\lib\\site-packages (from huggingface-hub==0.0.12->transformers) (3.7.4.3)\n",
      "Requirement already satisfied: pyparsing>=2.0.2 in c:\\anaconda\\lib\\site-packages (from packaging->transformers) (2.4.7)\n",
      "Requirement already satisfied: urllib3<1.27,>=1.21.1 in c:\\anaconda\\lib\\site-packages (from requests->transformers) (1.26.4)\n",
      "Requirement already satisfied: idna<3,>=2.5 in c:\\anaconda\\lib\\site-packages (from requests->transformers) (2.10)\n",
      "Requirement already satisfied: chardet<5,>=3.0.2 in c:\\anaconda\\lib\\site-packages (from requests->transformers) (4.0.0)\n",
      "Requirement already satisfied: certifi>=2017.4.17 in c:\\anaconda\\lib\\site-packages (from requests->transformers) (2020.12.5)\n",
      "Requirement already satisfied: joblib in c:\\anaconda\\lib\\site-packages (from sacremoses->transformers) (1.0.1)\n",
      "Requirement already satisfied: six in c:\\users\\el hadaf\\appdata\\roaming\\python\\python38\\site-packages (from sacremoses->transformers) (1.14.0)\n",
      "Requirement already satisfied: click in c:\\anaconda\\lib\\site-packages (from sacremoses->transformers) (7.1.2)\n",
      "Requirement already satisfied: flair in c:\\anaconda\\lib\\site-packages (0.8.0.post1)\n",
      "Requirement already satisfied: deprecated>=1.2.4 in c:\\anaconda\\lib\\site-packages (from flair) (1.2.12)\n",
      "Requirement already satisfied: hyperopt>=0.1.1 in c:\\anaconda\\lib\\site-packages (from flair) (0.2.5)\n",
      "Requirement already satisfied: gdown==3.12.2 in c:\\anaconda\\lib\\site-packages (from flair) (3.12.2)\n",
      "Requirement already satisfied: langdetect in c:\\anaconda\\lib\\site-packages (from flair) (1.0.9)\n",
      "Requirement already satisfied: sqlitedict>=1.6.0 in c:\\anaconda\\lib\\site-packages (from flair) (1.7.0)\n",
      "Requirement already satisfied: torch<=1.7.1,>=1.5.0 in c:\\anaconda\\lib\\site-packages (from flair) (1.7.1)\n",
      "Requirement already satisfied: matplotlib>=2.2.3 in c:\\anaconda\\lib\\site-packages (from flair) (3.3.4)\n",
      "Requirement already satisfied: numpy<1.20.0 in c:\\anaconda\\lib\\site-packages (from flair) (1.19.5)\n",
      "Requirement already satisfied: konoha<5.0.0,>=4.0.0 in c:\\anaconda\\lib\\site-packages (from flair) (4.6.5)\n",
      "Requirement already satisfied: mpld3==0.3 in c:\\anaconda\\lib\\site-packages (from flair) (0.3)\n",
      "Requirement already satisfied: tqdm>=4.26.0 in c:\\anaconda\\lib\\site-packages (from flair) (4.59.0)\n",
      "Requirement already satisfied: tabulate in c:\\anaconda\\lib\\site-packages (from flair) (0.8.9)\n",
      "Requirement already satisfied: lxml in c:\\anaconda\\lib\\site-packages (from flair) (4.6.3)\n",
      "Requirement already satisfied: gensim<=3.8.3,>=3.4.0 in c:\\anaconda\\lib\\site-packages (from flair) (3.8.3)\n",
      "Requirement already satisfied: segtok>=1.5.7 in c:\\anaconda\\lib\\site-packages (from flair) (1.5.10)\n",
      "Requirement already satisfied: janome in c:\\anaconda\\lib\\site-packages (from flair) (0.4.1)\n",
      "Requirement already satisfied: ftfy in c:\\anaconda\\lib\\site-packages (from flair) (6.0.3)\n",
      "Requirement already satisfied: sentencepiece==0.1.95 in c:\\anaconda\\lib\\site-packages (from flair) (0.1.95)\n",
      "Requirement already satisfied: bpemb>=0.3.2 in c:\\anaconda\\lib\\site-packages (from flair) (0.3.3)\n",
      "Requirement already satisfied: python-dateutil>=2.6.1 in c:\\anaconda\\lib\\site-packages (from flair) (2.8.1)\n",
      "Requirement already satisfied: huggingface-hub in c:\\anaconda\\lib\\site-packages (from flair) (0.0.12)\n",
      "Requirement already satisfied: transformers>=4.0.0 in c:\\anaconda\\lib\\site-packages (from flair) (4.8.2)\n",
      "Requirement already satisfied: scikit-learn>=0.21.3 in c:\\anaconda\\lib\\site-packages (from flair) (0.24.1)\n",
      "Requirement already satisfied: regex in c:\\anaconda\\lib\\site-packages (from flair) (2021.4.4)\n",
      "Requirement already satisfied: filelock in c:\\anaconda\\lib\\site-packages (from gdown==3.12.2->flair) (3.0.12)\n",
      "Requirement already satisfied: six in c:\\users\\el hadaf\\appdata\\roaming\\python\\python38\\site-packages (from gdown==3.12.2->flair) (1.14.0)\n",
      "Requirement already satisfied: requests[socks] in c:\\anaconda\\lib\\site-packages (from gdown==3.12.2->flair) (2.25.1)\n",
      "Requirement already satisfied: wrapt<2,>=1.10 in c:\\users\\el hadaf\\appdata\\roaming\\python\\python38\\site-packages (from deprecated>=1.2.4->flair) (1.11.2)\n",
      "Requirement already satisfied: scipy>=0.18.1 in c:\\anaconda\\lib\\site-packages (from gensim<=3.8.3,>=3.4.0->flair) (1.6.2)\n",
      "Requirement already satisfied: Cython==0.29.14 in c:\\anaconda\\lib\\site-packages (from gensim<=3.8.3,>=3.4.0->flair) (0.29.14)\n",
      "Requirement already satisfied: smart-open>=1.8.1 in c:\\anaconda\\lib\\site-packages (from gensim<=3.8.3,>=3.4.0->flair) (5.1.0)\n",
      "Requirement already satisfied: future in c:\\anaconda\\lib\\site-packages (from hyperopt>=0.1.1->flair) (0.18.2)\n",
      "Requirement already satisfied: cloudpickle in c:\\anaconda\\lib\\site-packages (from hyperopt>=0.1.1->flair) (1.6.0)\n",
      "Requirement already satisfied: networkx>=2.2 in c:\\anaconda\\lib\\site-packages (from hyperopt>=0.1.1->flair) (2.5)\n",
      "Requirement already satisfied: overrides<4.0.0,>=3.0.0 in c:\\anaconda\\lib\\site-packages (from konoha<5.0.0,>=4.0.0->flair) (3.1.0)\n",
      "Requirement already satisfied: importlib-metadata<4.0.0,>=3.7.0 in c:\\anaconda\\lib\\site-packages (from konoha<5.0.0,>=4.0.0->flair) (3.10.0)\n",
      "Requirement already satisfied: zipp>=0.5 in c:\\anaconda\\lib\\site-packages (from importlib-metadata<4.0.0,>=3.7.0->konoha<5.0.0,>=4.0.0->flair) (3.4.1)\n",
      "Requirement already satisfied: pillow>=6.2.0 in c:\\anaconda\\lib\\site-packages (from matplotlib>=2.2.3->flair) (8.2.0)\n",
      "Requirement already satisfied: kiwisolver>=1.0.1 in c:\\anaconda\\lib\\site-packages (from matplotlib>=2.2.3->flair) (1.3.1)\n",
      "Requirement already satisfied: cycler>=0.10 in c:\\anaconda\\lib\\site-packages (from matplotlib>=2.2.3->flair) (0.10.0)\n",
      "Requirement already satisfied: pyparsing!=2.0.4,!=2.1.2,!=2.1.6,>=2.0.3 in c:\\anaconda\\lib\\site-packages (from matplotlib>=2.2.3->flair) (2.4.7)\n",
      "Requirement already satisfied: decorator>=4.3.0 in c:\\anaconda\\lib\\site-packages (from networkx>=2.2->hyperopt>=0.1.1->flair) (5.0.6)\n",
      "Requirement already satisfied: chardet<5,>=3.0.2 in c:\\anaconda\\lib\\site-packages (from requests[socks]->gdown==3.12.2->flair) (4.0.0)\n",
      "Requirement already satisfied: urllib3<1.27,>=1.21.1 in c:\\anaconda\\lib\\site-packages (from requests[socks]->gdown==3.12.2->flair) (1.26.4)\n",
      "Requirement already satisfied: certifi>=2017.4.17 in c:\\anaconda\\lib\\site-packages (from requests[socks]->gdown==3.12.2->flair) (2020.12.5)\n",
      "Requirement already satisfied: idna<3,>=2.5 in c:\\anaconda\\lib\\site-packages (from requests[socks]->gdown==3.12.2->flair) (2.10)\n",
      "Requirement already satisfied: joblib>=0.11 in c:\\anaconda\\lib\\site-packages (from scikit-learn>=0.21.3->flair) (1.0.1)\n",
      "Requirement already satisfied: threadpoolctl>=2.0.0 in c:\\anaconda\\lib\\site-packages (from scikit-learn>=0.21.3->flair) (2.1.0)\n",
      "Requirement already satisfied: typing-extensions in c:\\anaconda\\lib\\site-packages (from torch<=1.7.1,>=1.5.0->flair) (3.7.4.3)\n",
      "Requirement already satisfied: tokenizers<0.11,>=0.10.1 in c:\\anaconda\\lib\\site-packages (from transformers>=4.0.0->flair) (0.10.3)\n",
      "Requirement already satisfied: packaging in c:\\anaconda\\lib\\site-packages (from transformers>=4.0.0->flair) (20.9)\n",
      "Requirement already satisfied: sacremoses in c:\\anaconda\\lib\\site-packages (from transformers>=4.0.0->flair) (0.0.45)\n",
      "Requirement already satisfied: pyyaml in c:\\anaconda\\lib\\site-packages (from transformers>=4.0.0->flair) (5.4.1)\n",
      "Requirement already satisfied: wcwidth in c:\\anaconda\\lib\\site-packages (from ftfy->flair) (0.2.5)\n",
      "Requirement already satisfied: PySocks!=1.5.7,>=1.5.6 in c:\\anaconda\\lib\\site-packages (from requests[socks]->gdown==3.12.2->flair) (1.7.1)\n",
      "Requirement already satisfied: click in c:\\anaconda\\lib\\site-packages (from sacremoses->transformers>=4.0.0->flair) (7.1.2)\n"
     ]
    },
    {
     "name": "stdout",
     "output_type": "stream",
     "text": [
      "Requirement already satisfied: torch in c:\\anaconda\\lib\\site-packages (1.7.1)\n",
      "Requirement already satisfied: typing-extensions in c:\\anaconda\\lib\\site-packages (from torch) (3.7.4.3)\n",
      "Requirement already satisfied: numpy in c:\\anaconda\\lib\\site-packages (from torch) (1.19.5)\n",
      "Requirement already satisfied: pytorch_pretrained_bert in c:\\anaconda\\lib\\site-packages (0.6.2)\n",
      "Requirement already satisfied: tqdm in c:\\anaconda\\lib\\site-packages (from pytorch_pretrained_bert) (4.59.0)\n",
      "Requirement already satisfied: requests in c:\\anaconda\\lib\\site-packages (from pytorch_pretrained_bert) (2.25.1)\n",
      "Requirement already satisfied: torch>=0.4.1 in c:\\anaconda\\lib\\site-packages (from pytorch_pretrained_bert) (1.7.1)\n",
      "Requirement already satisfied: numpy in c:\\anaconda\\lib\\site-packages (from pytorch_pretrained_bert) (1.19.5)\n",
      "Requirement already satisfied: regex in c:\\anaconda\\lib\\site-packages (from pytorch_pretrained_bert) (2021.4.4)\n",
      "Requirement already satisfied: boto3 in c:\\anaconda\\lib\\site-packages (from pytorch_pretrained_bert) (1.17.106)\n",
      "Requirement already satisfied: typing-extensions in c:\\anaconda\\lib\\site-packages (from torch>=0.4.1->pytorch_pretrained_bert) (3.7.4.3)\n",
      "Requirement already satisfied: jmespath<1.0.0,>=0.7.1 in c:\\anaconda\\lib\\site-packages (from boto3->pytorch_pretrained_bert) (0.10.0)\n",
      "Requirement already satisfied: s3transfer<0.5.0,>=0.4.0 in c:\\anaconda\\lib\\site-packages (from boto3->pytorch_pretrained_bert) (0.4.2)\n",
      "Requirement already satisfied: botocore<1.21.0,>=1.20.106 in c:\\anaconda\\lib\\site-packages (from boto3->pytorch_pretrained_bert) (1.20.106)\n",
      "Requirement already satisfied: urllib3<1.27,>=1.25.4 in c:\\anaconda\\lib\\site-packages (from botocore<1.21.0,>=1.20.106->boto3->pytorch_pretrained_bert) (1.26.4)\n",
      "Requirement already satisfied: python-dateutil<3.0.0,>=2.1 in c:\\anaconda\\lib\\site-packages (from botocore<1.21.0,>=1.20.106->boto3->pytorch_pretrained_bert) (2.8.1)\n",
      "Requirement already satisfied: six>=1.5 in c:\\users\\el hadaf\\appdata\\roaming\\python\\python38\\site-packages (from python-dateutil<3.0.0,>=2.1->botocore<1.21.0,>=1.20.106->boto3->pytorch_pretrained_bert) (1.14.0)\n",
      "Requirement already satisfied: certifi>=2017.4.17 in c:\\anaconda\\lib\\site-packages (from requests->pytorch_pretrained_bert) (2020.12.5)\n",
      "Requirement already satisfied: chardet<5,>=3.0.2 in c:\\anaconda\\lib\\site-packages (from requests->pytorch_pretrained_bert) (4.0.0)\n",
      "Requirement already satisfied: idna<3,>=2.5 in c:\\anaconda\\lib\\site-packages (from requests->pytorch_pretrained_bert) (2.10)\n"
     ]
    }
   ],
   "source": [
    "!pip install transformers\n",
    "!pip install flair\n",
    "!pip install torch\n",
    "!pip install pytorch_pretrained_bert\n",
    "from transformers import AutoTokenizer\n",
    "from flair.data import Sentence\n",
    "from flair.models import SequenceTagger\n",
    "from pytorch_pretrained_bert import BertTokenizer, BertModel, BertForMaskedLM"
   ]
  },
  {
   "cell_type": "markdown",
   "id": "4724eb25",
   "metadata": {},
   "source": [
    "## Load DATA"
   ]
  },
  {
   "cell_type": "code",
   "execution_count": null,
   "id": "8eca66ee",
   "metadata": {},
   "outputs": [],
   "source": [
    "text = 'ربما كانت أحد أهم التطورات التي قامت بها الرياضيات العربية التي بدأت في هذا الوقت بعمل الخوارزمي و هي بدايات الجبر، و من المهم فهم كيف كانت هذه الفكرة الجديدة مهمة، فقد كانت خطوة ثورية بعيدا عن المفهوم اليوناني للرياضيات التي هي في جوهرها هندسة، الجبر كان نظرية موحدة تتيح الأعداد الكسرية و الأعداد اللا كسرية، و المقادير الهندسية و غيرها، أن تتعامل على أنها أجسام جبرية، و أعطت الرياضيات ككل مسارا جديدا للتطور بمفهوم أوسع بكثير من الذي كان موجودا من قبل، و قدم وسيلة للتنمية في هذا الموضوع مستقبلا و جانب آخر مهم لإدخال أفكار الجبر و هو أنه سمح بتطبيق الرياضيات على نفسها بطريقة لم تحدث من قبل'\n"
   ]
  },
  {
   "cell_type": "markdown",
   "id": "5acc4102",
   "metadata": {},
   "source": [
    "## Tokenization"
   ]
  },
  {
   "cell_type": "code",
   "execution_count": 15,
   "id": "fba88db4",
   "metadata": {},
   "outputs": [
    {
     "name": "stderr",
     "output_type": "stream",
     "text": [
      "The pre-trained model you are loading is a cased model but you have not set `do_lower_case` to False. We are setting `do_lower_case=False` for you but you may want to check this behavior.\n"
     ]
    },
    {
     "name": "stdout",
     "output_type": "stream",
     "text": [
      "ربما كانت أحد أهم التطورات التي قامت بها الرياضيات العربية التي بدأت في هذا الوقت بعمل الخوارزمي و هي بدايات الجبر، و من المهم فهم كيف كانت هذه الفكرة الجديدة مهمة، فقد كانت خطوة ثورية بعيدا عن المفهوم اليوناني للرياضيات التي هي في جوهرها هندسة، الجبر كان نظرية موحدة تتيح الأعداد الكسرية و الأعداد اللا كسرية، و المقادير الهندسية و غيرها، أن تتعامل على أنها أجسام جبرية، و أعطت الرياضيات ككل مسارا جديدا للتطور بمفهوم أوسع بكثير من الذي كان موجودا من قبل، و قدم وسيلة للتنمية في هذا الموضوع مستقبلا و جانب آخر مهم لإدخال أفكار الجبر و هو أنه سمح بتطبيق الرياضيات على نفسها بطريقة لم تحدث من قبل\n",
      "['ر', '##ب', '##م', '##ا', 'ك', '##ان', '##ت', 'أ', '##ح', '##د', 'أ', '##ه', '##م', 'ا', '##ل', '##ت', '##ط', '##و', '##ر', '##ا', '##ت', 'ا', '##ل', '##ت', '##ي', 'ق', '##ا', '##م', '##ت', 'ب', '##ه', '##ا', 'ا', '##ل', '##ر', '##ي', '##ا', '##ض', '##ي', '##ا', '##ت', 'ا', '##ل', '##ع', '##ر', '##ب', '##ي', '##ة', 'ا', '##ل', '##ت', '##ي', 'ب', '##د', '##أ', '##ت', 'ف', '##ي', 'ه', '##ذ', '##ا', 'ا', '##ل', '##و', '##ق', '##ت', 'ب', '##ع', '##م', '##ل', 'ا', '##ل', '##خ', '##و', '##ا', '##ر', '##ز', '##م', '##ي', 'و', 'ه', '##ي', 'ب', '##د', '##ا', '##ي', '##ا', '##ت', 'ا', '##ل', '##ج', '##ب', '##ر', '،', 'و', 'م', '##ن', 'ا', '##ل', '##م', '##ه', '##م', 'ف', '##ه', '##م', 'ك', '##ي', '##ف', 'ك', '##ان', '##ت', 'ه', '##ذ', '##ه', 'ا', '##ل', '##ف', '##ك', '##ر', '##ة', 'ا', '##ل', '##ج', '##د', '##ي', '##د', '##ة', 'م', '##ه', '##م', '##ة', '،', 'ف', '##ق', '##د', 'ك', '##ان', '##ت', 'خ', '##ط', '##و', '##ة', 'ث', '##و', '##ر', '##ي', '##ة', 'ب', '##ع', '##ي', '##د', '##ا', 'ع', '##ن', 'ا', '##ل', '##م', '##ف', '##ه', '##و', '##م', 'ا', '##ل', '##ي', '##و', '##ن', '##ان', '##ي', 'ل', '##ل', '##ر', '##ي', '##ا', '##ض', '##ي', '##ا', '##ت', 'ا', '##ل', '##ت', '##ي', 'ه', '##ي', 'ف', '##ي', 'ج', '##و', '##ه', '##ر', '##ه', '##ا', 'ه', '##ن', '##د', '##س', '##ة', '،', 'ا', '##ل', '##ج', '##ب', '##ر', 'ك', '##ان', 'ن', '##ظ', '##ر', '##ي', '##ة', 'م', '##و', '##ح', '##د', '##ة', 'ت', '##ت', '##ي', '##ح', 'ا', '##ل', '##أ', '##ع', '##د', '##اد', 'ا', '##ل', '##ك', '##س', '##ر', '##ي', '##ة', 'و', 'ا', '##ل', '##أ', '##ع', '##د', '##اد', 'ا', '##ل', '##ل', '##ا', 'ك', '##س', '##ر', '##ي', '##ة', '،', 'و', 'ا', '##ل', '##م', '##ق', '##اد', '##ي', '##ر', 'ا', '##ل', '##ه', '##ن', '##د', '##س', '##ي', '##ة', 'و', 'غ', '##ي', '##ر', '##ه', '##ا', '،', 'أ', '##ن', 'ت', '##ت', '##ع', '##ا', '##م', '##ل', 'ع', '##ل', '##ى', 'أ', '##ن', '##ه', '##ا', 'أ', '##ج', '##س', '##ا', '##م', 'ج', '##ب', '##ر', '##ي', '##ة', '،', 'و', 'أ', '##ع', '##ط', '##ت', 'ا', '##ل', '##ر', '##ي', '##ا', '##ض', '##ي', '##ا', '##ت', 'ك', '##ك', '##ل', 'م', '##س', '##ا', '##ر', '##ا', 'ج', '##د', '##ي', '##د', '##ا', 'ل', '##ل', '##ت', '##ط', '##و', '##ر', 'ب', '##م', '##ف', '##ه', '##و', '##م', 'أ', '##و', '##س', '##ع', 'ب', '##ك', '##ث', '##ي', '##ر', 'م', '##ن', 'ا', '##ل', '##ذ', '##ي', 'ك', '##ان', 'م', '##و', '##ج', '##و', '##د', '##ا', 'م', '##ن', 'ق', '##ب', '##ل', '،', 'و', 'ق', '##د', '##م', 'و', '##س', '##ي', '##ل', '##ة', 'ل', '##ل', '##ت', '##ن', '##م', '##ي', '##ة', 'ف', '##ي', 'ه', '##ذ', '##ا', 'ا', '##ل', '##م', '##و', '##ض', '##و', '##ع', 'م', '##س', '##ت', '##ق', '##ب', '##ل', '##ا', 'و', 'ج', '##ان', '##ب', 'آ', '##خ', '##ر', 'م', '##ه', '##م', 'ل', '##إ', '##د', '##خ', '##ا', '##ل', 'أ', '##ف', '##ك', '##ا', '##ر', 'ا', '##ل', '##ج', '##ب', '##ر', 'و', 'ه', '##و', 'أ', '##ن', '##ه', 'س', '##م', '##ح', 'ب', '##ت', '##ط', '##ب', '##ي', '##ق', 'ا', '##ل', '##ر', '##ي', '##ا', '##ض', '##ي', '##ا', '##ت', 'ع', '##ل', '##ى', 'ن', '##ف', '##س', '##ه', '##ا', 'ب', '##ط', '##ر', '##ي', '##ق', '##ة', 'ل', '##م', 'ت', '##ح', '##د', '##ث', 'م', '##ن', 'ق', '##ب', '##ل']\n"
     ]
    }
   ],
   "source": [
    "PRE_TRAINED_MODEL_NAME = 'bert-base-cased'\n",
    "tokenizer = BertTokenizer.from_pretrained(PRE_TRAINED_MODEL_NAME)\n",
    "tok = tokenizer.tokenize(text)\n",
    "do_lower_case=False\n",
    "\n",
    "print( text)\n",
    "print(tok)"
   ]
  },
  {
   "cell_type": "code",
   "execution_count": null,
   "id": "3bf02184",
   "metadata": {},
   "outputs": [],
   "source": []
  }
 ],
 "metadata": {
  "kernelspec": {
   "display_name": "Python 3",
   "language": "python",
   "name": "python3"
  },
  "language_info": {
   "codemirror_mode": {
    "name": "ipython",
    "version": 3
   },
   "file_extension": ".py",
   "mimetype": "text/x-python",
   "name": "python",
   "nbconvert_exporter": "python",
   "pygments_lexer": "ipython3",
   "version": "3.8.8"
  }
 },
 "nbformat": 4,
 "nbformat_minor": 5
}
